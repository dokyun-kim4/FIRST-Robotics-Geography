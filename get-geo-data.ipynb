{
 "cells": [
  {
   "cell_type": "code",
   "execution_count": 2,
   "metadata": {},
   "outputs": [
    {
     "name": "stdout",
     "output_type": "stream",
     "text": [
      "Olin College of Engineering, 1000, Olin Way, Olin Woods, Needham, Norfolk County, Massachusetts, 02492, United States\n",
      "(42.2900134, -71.26080120734075)\n"
     ]
    }
   ],
   "source": [
    "from geopy.geocoders import Nominatim\n",
    "\n",
    "adress = \"Olin College of Engineering\"\n",
    "geolocator = Nominatim(user_agent=\"FRG\")\n",
    "location = geolocator.geocode(adress)\n",
    "print(location.address)\n",
    "print((location.latitude, location.longitude))\n",
    "lattitude = location.latitude\n",
    "longitude = location.longitude"
   ]
  }
 ],
 "metadata": {
  "kernelspec": {
   "display_name": "base",
   "language": "python",
   "name": "python3"
  },
  "language_info": {
   "codemirror_mode": {
    "name": "ipython",
    "version": 3
   },
   "file_extension": ".py",
   "mimetype": "text/x-python",
   "name": "python",
   "nbconvert_exporter": "python",
   "pygments_lexer": "ipython3",
   "version": "3.9.13"
  },
  "orig_nbformat": 4
 },
 "nbformat": 4,
 "nbformat_minor": 2
}
